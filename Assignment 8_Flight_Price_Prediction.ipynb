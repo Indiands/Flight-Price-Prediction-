{
 "cells": [
  {
   "cell_type": "markdown",
   "id": "efe9108f",
   "metadata": {},
   "source": [
    "# Flight Price Prediction"
   ]
  },
  {
   "cell_type": "markdown",
   "id": "02feb5e7",
   "metadata": {},
   "source": [
    "Anyone who has booked a flight ticket knows how unexpectedly the prices vary. The cheapest \n",
    "available ticket on a given flight gets more and less expensive over time. This usually happens as \n",
    "an attempt to maximize revenue based on -\n",
    "1. Time of purchase patterns (making sure last-minute purchases are expensive)\n",
    "2. Keeping the flight as full as they want it (raising prices on a flight which is filling up in order \n",
    "to reduce sales and hold back inventory for those expensive last-minute expensive \n",
    "purchases)\n",
    "So, we have to work on a project where we collect data of flight fares with other features and \n",
    "work to make a model to predict fares of flights."
   ]
  },
  {
   "cell_type": "markdown",
   "id": "cda602d5",
   "metadata": {},
   "source": [
    "# Import Libraries:"
   ]
  },
  {
   "cell_type": "code",
   "execution_count": 1,
   "id": "3be6e269",
   "metadata": {},
   "outputs": [],
   "source": [
    "import pandas as pd\n",
    "import numpy as np\n",
    "import selenium\n",
    "\n",
    "\n",
    "# Importing selenium webdriver\n",
    "from selenium import webdriver \n",
    "\n",
    "# Importing required Exceptions which needs to handled\n",
    "from selenium.common.exceptions import StaleElementReferenceException, NoSuchElementException\n",
    "\n",
    "# Importing request\n",
    "import requests\n",
    "\n",
    "# Import regex\n",
    "import re\n",
    "import time\n",
    "\n",
    "# Ignore warnings\n",
    "import warnings\n",
    "warnings.filterwarnings('ignore')"
   ]
  },
  {
   "cell_type": "code",
   "execution_count": 2,
   "id": "d212f3d9",
   "metadata": {},
   "outputs": [],
   "source": [
    "# Activation the chrome browser\n",
    "driver = webdriver.Chrome('chromedriver.exe')\n",
    "\n",
    "# Maximize the window\n",
    "driver.maximize_window()\n",
    "\n",
    "time.sleep(2)"
   ]
  },
  {
   "cell_type": "markdown",
   "id": "c71ec50f",
   "metadata": {},
   "source": [
    "# Scrape data from makemytrip.com"
   ]
  },
  {
   "cell_type": "code",
   "execution_count": 3,
   "id": "298a7b8e",
   "metadata": {},
   "outputs": [],
   "source": [
    "# Open the homepage\n",
    "url = 'https://www.makemytrip.com/ '\n",
    "driver.get(url)\n",
    "time.sleep(2)"
   ]
  },
  {
   "cell_type": "markdown",
   "id": "7023e693",
   "metadata": {},
   "source": [
    "# Ignore Popups:"
   ]
  },
  {
   "cell_type": "code",
   "execution_count": 7,
   "id": "1317fc0a",
   "metadata": {},
   "outputs": [],
   "source": [
    "# Close the popup button\n",
    "try:\n",
    "    X_button = driver.find_element_by_xpath('//div[@id=\"root\"]/div/div[2]/div/main/div[9]/span') \n",
    "    X_button.click()\n",
    "except NoSuchElementException : \n",
    "    print('Ignore Popups')"
   ]
  },
  {
   "cell_type": "code",
   "execution_count": 8,
   "id": "ed9de5b4",
   "metadata": {},
   "outputs": [
    {
     "name": "stdout",
     "output_type": "stream",
     "text": [
      "No Login page\n"
     ]
    }
   ],
   "source": [
    "# Ignore login page\n",
    "try:\n",
    "    login_button = driver.find_element_by_xpath('//li[@id=\"SW\"]/div[1]/div[1]/ul/li[4]')\n",
    "    login_button.click()\n",
    "except NoSuchElementException : \n",
    "    print(\"No Login page\")"
   ]
  },
  {
   "cell_type": "code",
   "execution_count": 9,
   "id": "f943ee52",
   "metadata": {},
   "outputs": [
    {
     "name": "stdout",
     "output_type": "stream",
     "text": [
      "Ignore Popups\n"
     ]
    }
   ],
   "source": [
    "# Ignore the popup: \n",
    "try:\n",
    "    login_button = driver.find_element_by_xpath('//div[@id=\"SW\"]/div[1]/div[1]/ul/li[4]/div[3]/div/div[1]/div/p/label')\n",
    "    login_button.click()\n",
    "except NoSuchElementException : \n",
    "    print(\"Ignore Popups\")\n"
   ]
  },
  {
   "cell_type": "markdown",
   "id": "6c57ec01",
   "metadata": {},
   "source": [
    "# Entering the data:"
   ]
  },
  {
   "cell_type": "code",
   "execution_count": 10,
   "id": "2c5ecf85",
   "metadata": {},
   "outputs": [],
   "source": [
    "# Entering location and date of journey:\n",
    "search_boarding_at = driver.find_element_by_xpath('/html/body/div[1]/div/div[2]/div/div/div[2]/div[1]/div[1]/label')\n",
    "search_boarding_at.send_keys(\"New Delhi\")\n",
    "\n",
    "search_destination = driver.find_element_by_xpath('/html/body/div[1]/div/div[2]/div/div/div[2]/div[1]/div[2]/label')\n",
    "search_destination.send_keys(\"Bangalore\")\n",
    "\n",
    "search_date = driver.find_element_by_xpath('//div[@id=\"root\"]/div/div[2]/div/div/div[2]/div[1]/div[3]/label/span')\n",
    "search_date.click()\n"
   ]
  },
  {
   "cell_type": "code",
   "execution_count": 11,
   "id": "60ec9b64",
   "metadata": {},
   "outputs": [],
   "source": [
    "# Set journey date and travell class:\n",
    "set_journey_date = driver.find_element_by_xpath('//div[@id=\"root\"]/div/div[2]/div/div/div[2]/div[1]/div[3]/div[1]/div/div/div/div[2]/div/div[2]/div[1]/div[3]/div[2]/div[3]/div/p[1]')\n",
    "set_journey_date.click()\n",
    "\n",
    "set_travell_class = driver.find_element_by_xpath('//div[@id=\"root\"]/div/div[2]/div/div/div[2]/div[1]/div[5]/label/p[2]')\n",
    "set_travell_class.click()\n",
    "\n",
    "select_class = driver.find_element_by_xpath('//div[@id=\"root\"]/div/div[2]/div/div/div[2]/div[1]/div[5]/div[2]/div[1]/ul[2]/li[1]')\n",
    "select_class.click()\n"
   ]
  },
  {
   "cell_type": "code",
   "execution_count": 12,
   "id": "1b83b577",
   "metadata": {},
   "outputs": [],
   "source": [
    "# Passengers seat allocation:\n",
    "seat = driver.find_element_by_xpath('//div[@id=\"root\"]/div/div[2]/div/div/div[2]/div[1]/div[5]/div[2]/div[1]/ul[1]/li[2]')\n",
    "seat.click()\n",
    "\n",
    "apply_key = driver.find_element_by_xpath('//div[@id=\"root\"]/div/div[2]/div/div/div[2]/div[1]/div[5]/div[2]/div[2]/button')\n",
    "apply_key.click()"
   ]
  },
  {
   "cell_type": "code",
   "execution_count": 13,
   "id": "a9894737",
   "metadata": {},
   "outputs": [],
   "source": [
    "# Click search button:\n",
    "search_button = driver.find_element_by_xpath('/html/body/div/div/div[2]/div/div/div[2]/p/a')\n",
    "search_button.click()\n",
    "time.sleep(4)\n"
   ]
  },
  {
   "cell_type": "code",
   "execution_count": 14,
   "id": "869daf20",
   "metadata": {},
   "outputs": [],
   "source": [
    "# Ignore the popup:\n",
    "try:\n",
    "    popup = driver.find_element_by_xpath('//div[@id=\"root\"]/div/div[2]/div[2]/div[2]/div/span')\n",
    "    popup.click()\n",
    "except NoSuchElementException : \n",
    "    print(\"Ignore popup \")"
   ]
  },
  {
   "cell_type": "markdown",
   "id": "bec30b2f",
   "metadata": {},
   "source": [
    "# Making the list of scrape data:"
   ]
  },
  {
   "cell_type": "code",
   "execution_count": 33,
   "id": "ebf81cad",
   "metadata": {},
   "outputs": [],
   "source": [
    "# Creating empty lists:\n",
    "flight_name = []\n",
    "flight_code = []\n",
    "departure_time = []\n",
    "arrival_time = []\n",
    "duration = []\n",
    "ticket_price = []\n",
    "\n",
    "\n",
    "# Scrap the flight name:\n",
    "names=driver.find_elements_by_xpath('//p[@class = \"boldFont blackText airlineName\"]')\n",
    "for i in names:\n",
    "    if i.text is None :\n",
    "        flight_name.append(\"--\") \n",
    "    else:\n",
    "        flight_name.append(i.text)\n",
    "        \n",
    "\n",
    "time.sleep(3)\n",
    "\n",
    "# Scrap the flight code:\n",
    "codes=driver.find_elements_by_xpath('//p[@class =\"fliCode\"]')\n",
    "for i in codes:\n",
    "    if i.text is None :\n",
    "        flight_code.append(\"--\") \n",
    "    else:\n",
    "        flight_code.append(i.text)\n",
    "        \n",
    "\n",
    "time.sleep(3)\n",
    "\n",
    "# Scrap the departure time:\n",
    "dep_time = driver.find_elements_by_xpath('//div[@class = \"flightTimeSection flexOne timeInfoLeft\"]')\n",
    "for i in dep_time:\n",
    "    if i.text is None:\n",
    "        departure_time.append(\"--\")\n",
    "    else:\n",
    "        departure_time.append(i.text)\n",
    "        \n",
    "time.sleep(3)\n",
    "\n",
    "# Scrap the arrival time:\n",
    "av_time = driver.find_elements_by_xpath('//div[@class = \"flightTimeSection flexOne timeInfoRight\"]')\n",
    "for i in av_time:\n",
    "    if i.text is None:\n",
    "        arrival_time.append(\"--\")\n",
    "    else:\n",
    "        arrival_time.append(i.text)\n",
    "        \n",
    "time.sleep(3)\n",
    "\n",
    "# Scrap the duration/total time taken:\n",
    "total_time = driver.find_elements_by_xpath('//div[@class = \"stop-info flexOne\"]')\n",
    "for i in total_time:\n",
    "    if i.text is None:\n",
    "        duration.append(\"--\")\n",
    "    else:\n",
    "        duration.append(i.text)\n",
    "        \n",
    "time.sleep(3)\n",
    "\n",
    "\n",
    "# Scrap the cost of ticket:\n",
    "ticket = driver.find_elements_by_xpath('//div[@class = \"priceSection\"]')\n",
    "for i in ticket:\n",
    "    if i.text is None:\n",
    "        ticket_price.append(\"--\")\n",
    "    else:\n",
    "        ticket_price.append(i.text)\n",
    "\n",
    "time.sleep(3)"
   ]
  },
  {
   "cell_type": "markdown",
   "id": "b0e746e0",
   "metadata": {},
   "source": [
    "# Checking the length of list items:"
   ]
  },
  {
   "cell_type": "code",
   "execution_count": 34,
   "id": "7c835918",
   "metadata": {},
   "outputs": [
    {
     "name": "stdout",
     "output_type": "stream",
     "text": [
      "18\n",
      "18\n",
      "18\n",
      "18\n",
      "18\n",
      "18\n"
     ]
    }
   ],
   "source": [
    "print(len(flight_name)),\n",
    "print(len(flight_code)),\n",
    "print(len(departure_time)),\n",
    "print(len(arrival_time)),\n",
    "print(len(duration)),\n",
    "print(len(ticket_price))\n"
   ]
  },
  {
   "cell_type": "markdown",
   "id": "e0db36b9",
   "metadata": {},
   "source": [
    "# Making data frame:"
   ]
  },
  {
   "cell_type": "code",
   "execution_count": 35,
   "id": "aab4d948",
   "metadata": {},
   "outputs": [
    {
     "data": {
      "text/html": [
       "<div>\n",
       "<style scoped>\n",
       "    .dataframe tbody tr th:only-of-type {\n",
       "        vertical-align: middle;\n",
       "    }\n",
       "\n",
       "    .dataframe tbody tr th {\n",
       "        vertical-align: top;\n",
       "    }\n",
       "\n",
       "    .dataframe thead th {\n",
       "        text-align: right;\n",
       "    }\n",
       "</style>\n",
       "<table border=\"1\" class=\"dataframe\">\n",
       "  <thead>\n",
       "    <tr style=\"text-align: right;\">\n",
       "      <th></th>\n",
       "      <th>Airlines</th>\n",
       "      <th>Airlines_Code</th>\n",
       "      <th>Departure</th>\n",
       "      <th>Arrival</th>\n",
       "      <th>Duration of trip</th>\n",
       "      <th>Ticket Price</th>\n",
       "    </tr>\n",
       "  </thead>\n",
       "  <tbody>\n",
       "    <tr>\n",
       "      <th>0</th>\n",
       "      <td>Go First</td>\n",
       "      <td>G8 113</td>\n",
       "      <td>05:50\\nNew Delhi</td>\n",
       "      <td>08:35\\nBengaluru</td>\n",
       "      <td>02 h 45 m\\nNon stop</td>\n",
       "      <td>₹ 9,418\\nVIEW PRICES</td>\n",
       "    </tr>\n",
       "    <tr>\n",
       "      <th>1</th>\n",
       "      <td>Go First</td>\n",
       "      <td>G8 119</td>\n",
       "      <td>20:30\\nNew Delhi</td>\n",
       "      <td>23:25\\nBengaluru</td>\n",
       "      <td>02 h 55 m\\nNon stop</td>\n",
       "      <td>₹ 9,418\\nVIEW PRICES</td>\n",
       "    </tr>\n",
       "    <tr>\n",
       "      <th>2</th>\n",
       "      <td>IndiGo</td>\n",
       "      <td>6E 5036</td>\n",
       "      <td>02:25\\nNew Delhi</td>\n",
       "      <td>05:15\\nBengaluru</td>\n",
       "      <td>02 h 50 m\\nNon stop</td>\n",
       "      <td>₹ 9,419\\nVIEW PRICES</td>\n",
       "    </tr>\n",
       "    <tr>\n",
       "      <th>3</th>\n",
       "      <td>IndiGo</td>\n",
       "      <td>6E 6612</td>\n",
       "      <td>06:00\\nNew Delhi</td>\n",
       "      <td>08:35\\nBengaluru</td>\n",
       "      <td>02 h 35 m\\nNon stop</td>\n",
       "      <td>₹ 9,419\\nVIEW PRICES</td>\n",
       "    </tr>\n",
       "    <tr>\n",
       "      <th>4</th>\n",
       "      <td>SpiceJet</td>\n",
       "      <td>SG 191</td>\n",
       "      <td>06:05\\nNew Delhi</td>\n",
       "      <td>08:55\\nBengaluru</td>\n",
       "      <td>02 h 50 m\\nNon stop</td>\n",
       "      <td>₹ 9,419\\nVIEW PRICES</td>\n",
       "    </tr>\n",
       "    <tr>\n",
       "      <th>5</th>\n",
       "      <td>IndiGo</td>\n",
       "      <td>6E 5009</td>\n",
       "      <td>06:55\\nNew Delhi</td>\n",
       "      <td>09:50\\nBengaluru</td>\n",
       "      <td>02 h 55 m\\nNon stop</td>\n",
       "      <td>₹ 9,419\\nVIEW PRICES</td>\n",
       "    </tr>\n",
       "    <tr>\n",
       "      <th>6</th>\n",
       "      <td>AirAsia</td>\n",
       "      <td>I5 740</td>\n",
       "      <td>08:10\\nNew Delhi</td>\n",
       "      <td>10:40\\nBengaluru</td>\n",
       "      <td>02 h 30 m\\nNon stop</td>\n",
       "      <td>₹ 9,419\\nVIEW PRICES</td>\n",
       "    </tr>\n",
       "    <tr>\n",
       "      <th>7</th>\n",
       "      <td>IndiGo</td>\n",
       "      <td>6E 308</td>\n",
       "      <td>08:20\\nNew Delhi</td>\n",
       "      <td>11:00\\nBengaluru</td>\n",
       "      <td>02 h 40 m\\nNon stop</td>\n",
       "      <td>₹ 9,419\\nVIEW PRICES</td>\n",
       "    </tr>\n",
       "    <tr>\n",
       "      <th>8</th>\n",
       "      <td>IndiGo</td>\n",
       "      <td>6E 6827</td>\n",
       "      <td>09:15\\nNew Delhi</td>\n",
       "      <td>11:55\\nBengaluru</td>\n",
       "      <td>02 h 40 m\\nNon stop</td>\n",
       "      <td>₹ 9,419\\nVIEW PRICES</td>\n",
       "    </tr>\n",
       "    <tr>\n",
       "      <th>9</th>\n",
       "      <td>AirAsia</td>\n",
       "      <td>I5 1529</td>\n",
       "      <td>09:35\\nNew Delhi</td>\n",
       "      <td>12:25\\nBengaluru</td>\n",
       "      <td>02 h 50 m\\nNon stop</td>\n",
       "      <td>₹ 9,419\\nVIEW PRICES</td>\n",
       "    </tr>\n",
       "    <tr>\n",
       "      <th>10</th>\n",
       "      <td>IndiGo</td>\n",
       "      <td>6E 2188</td>\n",
       "      <td>11:30\\nNew Delhi</td>\n",
       "      <td>14:15\\nBengaluru</td>\n",
       "      <td>02 h 45 m\\nNon stop</td>\n",
       "      <td>₹ 9,419\\nVIEW PRICES</td>\n",
       "    </tr>\n",
       "    <tr>\n",
       "      <th>11</th>\n",
       "      <td>IndiGo</td>\n",
       "      <td>6E 5186</td>\n",
       "      <td>13:00\\nNew Delhi</td>\n",
       "      <td>15:35\\nBengaluru</td>\n",
       "      <td>02 h 35 m\\nNon stop</td>\n",
       "      <td>₹ 9,419\\nVIEW PRICES</td>\n",
       "    </tr>\n",
       "    <tr>\n",
       "      <th>12</th>\n",
       "      <td>IndiGo</td>\n",
       "      <td>6E 2487</td>\n",
       "      <td>17:15\\nNew Delhi</td>\n",
       "      <td>19:55\\nBengaluru</td>\n",
       "      <td>02 h 40 m\\nNon stop</td>\n",
       "      <td>₹ 9,419\\nVIEW PRICES</td>\n",
       "    </tr>\n",
       "    <tr>\n",
       "      <th>13</th>\n",
       "      <td>IndiGo</td>\n",
       "      <td>6E 2015</td>\n",
       "      <td>18:30\\nNew Delhi</td>\n",
       "      <td>21:15\\nBengaluru</td>\n",
       "      <td>02 h 45 m\\nNon stop</td>\n",
       "      <td>₹ 9,419\\nVIEW PRICES</td>\n",
       "    </tr>\n",
       "    <tr>\n",
       "      <th>14</th>\n",
       "      <td>AirAsia</td>\n",
       "      <td>I5 857</td>\n",
       "      <td>18:45\\nNew Delhi</td>\n",
       "      <td>21:40\\nBengaluru</td>\n",
       "      <td>02 h 55 m\\nNon stop</td>\n",
       "      <td>₹ 9,419\\nVIEW PRICES</td>\n",
       "    </tr>\n",
       "    <tr>\n",
       "      <th>15</th>\n",
       "      <td>SpiceJet</td>\n",
       "      <td>SG 537</td>\n",
       "      <td>20:00\\nNew Delhi</td>\n",
       "      <td>22:30\\nBengaluru</td>\n",
       "      <td>02 h 30 m\\nNon stop</td>\n",
       "      <td>₹ 9,419\\nVIEW PRICES</td>\n",
       "    </tr>\n",
       "    <tr>\n",
       "      <th>16</th>\n",
       "      <td>IndiGo</td>\n",
       "      <td>6E 2532</td>\n",
       "      <td>20:10\\nNew Delhi</td>\n",
       "      <td>23:00\\nBengaluru</td>\n",
       "      <td>02 h 50 m\\nNon stop</td>\n",
       "      <td>₹ 9,419\\nVIEW PRICES</td>\n",
       "    </tr>\n",
       "    <tr>\n",
       "      <th>17</th>\n",
       "      <td>IndiGo</td>\n",
       "      <td>6E 2131</td>\n",
       "      <td>21:30\\nNew Delhi</td>\n",
       "      <td>00:15\\nBengaluru\\n+ 1 DAY</td>\n",
       "      <td>02 h 45 m\\nNon stop</td>\n",
       "      <td>₹ 9,419\\nVIEW PRICES</td>\n",
       "    </tr>\n",
       "  </tbody>\n",
       "</table>\n",
       "</div>"
      ],
      "text/plain": [
       "    Airlines Airlines_Code         Departure                    Arrival  \\\n",
       "0   Go First        G8 113  05:50\\nNew Delhi           08:35\\nBengaluru   \n",
       "1   Go First        G8 119  20:30\\nNew Delhi           23:25\\nBengaluru   \n",
       "2     IndiGo       6E 5036  02:25\\nNew Delhi           05:15\\nBengaluru   \n",
       "3     IndiGo       6E 6612  06:00\\nNew Delhi           08:35\\nBengaluru   \n",
       "4   SpiceJet        SG 191  06:05\\nNew Delhi           08:55\\nBengaluru   \n",
       "5     IndiGo       6E 5009  06:55\\nNew Delhi           09:50\\nBengaluru   \n",
       "6    AirAsia        I5 740  08:10\\nNew Delhi           10:40\\nBengaluru   \n",
       "7     IndiGo        6E 308  08:20\\nNew Delhi           11:00\\nBengaluru   \n",
       "8     IndiGo       6E 6827  09:15\\nNew Delhi           11:55\\nBengaluru   \n",
       "9    AirAsia       I5 1529  09:35\\nNew Delhi           12:25\\nBengaluru   \n",
       "10    IndiGo       6E 2188  11:30\\nNew Delhi           14:15\\nBengaluru   \n",
       "11    IndiGo       6E 5186  13:00\\nNew Delhi           15:35\\nBengaluru   \n",
       "12    IndiGo       6E 2487  17:15\\nNew Delhi           19:55\\nBengaluru   \n",
       "13    IndiGo       6E 2015  18:30\\nNew Delhi           21:15\\nBengaluru   \n",
       "14   AirAsia        I5 857  18:45\\nNew Delhi           21:40\\nBengaluru   \n",
       "15  SpiceJet        SG 537  20:00\\nNew Delhi           22:30\\nBengaluru   \n",
       "16    IndiGo       6E 2532  20:10\\nNew Delhi           23:00\\nBengaluru   \n",
       "17    IndiGo       6E 2131  21:30\\nNew Delhi  00:15\\nBengaluru\\n+ 1 DAY   \n",
       "\n",
       "       Duration of trip          Ticket Price  \n",
       "0   02 h 45 m\\nNon stop  ₹ 9,418\\nVIEW PRICES  \n",
       "1   02 h 55 m\\nNon stop  ₹ 9,418\\nVIEW PRICES  \n",
       "2   02 h 50 m\\nNon stop  ₹ 9,419\\nVIEW PRICES  \n",
       "3   02 h 35 m\\nNon stop  ₹ 9,419\\nVIEW PRICES  \n",
       "4   02 h 50 m\\nNon stop  ₹ 9,419\\nVIEW PRICES  \n",
       "5   02 h 55 m\\nNon stop  ₹ 9,419\\nVIEW PRICES  \n",
       "6   02 h 30 m\\nNon stop  ₹ 9,419\\nVIEW PRICES  \n",
       "7   02 h 40 m\\nNon stop  ₹ 9,419\\nVIEW PRICES  \n",
       "8   02 h 40 m\\nNon stop  ₹ 9,419\\nVIEW PRICES  \n",
       "9   02 h 50 m\\nNon stop  ₹ 9,419\\nVIEW PRICES  \n",
       "10  02 h 45 m\\nNon stop  ₹ 9,419\\nVIEW PRICES  \n",
       "11  02 h 35 m\\nNon stop  ₹ 9,419\\nVIEW PRICES  \n",
       "12  02 h 40 m\\nNon stop  ₹ 9,419\\nVIEW PRICES  \n",
       "13  02 h 45 m\\nNon stop  ₹ 9,419\\nVIEW PRICES  \n",
       "14  02 h 55 m\\nNon stop  ₹ 9,419\\nVIEW PRICES  \n",
       "15  02 h 30 m\\nNon stop  ₹ 9,419\\nVIEW PRICES  \n",
       "16  02 h 50 m\\nNon stop  ₹ 9,419\\nVIEW PRICES  \n",
       "17  02 h 45 m\\nNon stop  ₹ 9,419\\nVIEW PRICES  "
      ]
     },
     "execution_count": 35,
     "metadata": {},
     "output_type": "execute_result"
    }
   ],
   "source": [
    "# Creating the dataframe from the scraped data:\n",
    "df=pd.DataFrame({\"Airlines\": flight_name,\n",
    "                 \"Airlines_Code\": flight_code,\n",
    "                 \"Departure\": departure_time,\n",
    "                \"Arrival\": arrival_time,\n",
    "                \"Duration of trip\": duration,\n",
    "                \"Ticket Price\": ticket_price})\n",
    "df\n",
    "    "
   ]
  },
  {
   "cell_type": "markdown",
   "id": "1e7a470a",
   "metadata": {},
   "source": [
    "# Scrape data from Yatra.com"
   ]
  },
  {
   "cell_type": "code",
   "execution_count": 3,
   "id": "62fb573e",
   "metadata": {},
   "outputs": [],
   "source": [
    "# Open the homepage\n",
    "url = 'https://www.yatra.com/'\n",
    "driver.get(url)\n",
    "time.sleep(2)"
   ]
  },
  {
   "cell_type": "code",
   "execution_count": 4,
   "id": "90e1c2cf",
   "metadata": {},
   "outputs": [],
   "source": [
    "# Entering location and date of journey:\n",
    "search_boarding_at = driver.find_element_by_xpath('//*[@id=\"BE_flight_origin_city\"]')\n",
    "search_boarding_at.send_keys(\"New Delhi\")\n",
    "\n",
    "search_destination = driver.find_element_by_xpath('//*[@id=\"BE_flight_arrival_city\"]')\n",
    "search_destination.send_keys(\"Bangalore\")"
   ]
  },
  {
   "cell_type": "code",
   "execution_count": 5,
   "id": "f4989fcb",
   "metadata": {},
   "outputs": [
    {
     "ename": "NoSuchElementException",
     "evalue": "Message: no such element: Unable to locate element: {\"method\":\"xpath\",\"selector\":\"//td[@class = \"depart-daybox\"]\"}\n  (Session info: chrome=103.0.5060.53)\nStacktrace:\nBacktrace:\n\tOrdinal0 [0x011CD953+2414931]\n\tOrdinal0 [0x0115F5E1+1963489]\n\tOrdinal0 [0x0104C6B8+837304]\n\tOrdinal0 [0x01079500+1021184]\n\tOrdinal0 [0x0107979B+1021851]\n\tOrdinal0 [0x010A6502+1205506]\n\tOrdinal0 [0x010944E4+1131748]\n\tOrdinal0 [0x010A4812+1198098]\n\tOrdinal0 [0x010942B6+1131190]\n\tOrdinal0 [0x0106E860+976992]\n\tOrdinal0 [0x0106F756+980822]\n\tGetHandleVerifier [0x0143CC62+2510274]\n\tGetHandleVerifier [0x0142F760+2455744]\n\tGetHandleVerifier [0x0125EABA+551962]\n\tGetHandleVerifier [0x0125D916+547446]\n\tOrdinal0 [0x01165F3B+1990459]\n\tOrdinal0 [0x0116A898+2009240]\n\tOrdinal0 [0x0116A985+2009477]\n\tOrdinal0 [0x01173AD1+2046673]\n\tBaseThreadInitThunk [0x75C7FA29+25]\n\tRtlGetAppContainerNamedObjectPath [0x77917A9E+286]\n\tRtlGetAppContainerNamedObjectPath [0x77917A6E+238]\n",
     "output_type": "error",
     "traceback": [
      "\u001b[1;31m---------------------------------------------------------------------------\u001b[0m",
      "\u001b[1;31mNoSuchElementException\u001b[0m                    Traceback (most recent call last)",
      "\u001b[1;32m<ipython-input-5-625e6301768b>\u001b[0m in \u001b[0;36m<module>\u001b[1;34m\u001b[0m\n\u001b[0;32m      1\u001b[0m \u001b[1;31m# Set Journey date:\u001b[0m\u001b[1;33m\u001b[0m\u001b[1;33m\u001b[0m\u001b[1;33m\u001b[0m\u001b[0m\n\u001b[1;32m----> 2\u001b[1;33m \u001b[0mset_journey_date\u001b[0m \u001b[1;33m=\u001b[0m \u001b[0mdriver\u001b[0m\u001b[1;33m.\u001b[0m\u001b[0mfind_element_by_xpath\u001b[0m\u001b[1;33m(\u001b[0m\u001b[1;34m'//td[@class = \"depart-daybox\"]'\u001b[0m\u001b[1;33m)\u001b[0m\u001b[1;33m\u001b[0m\u001b[1;33m\u001b[0m\u001b[0m\n\u001b[0m\u001b[0;32m      3\u001b[0m \u001b[0mset_journey_date\u001b[0m\u001b[1;33m.\u001b[0m\u001b[0mclick\u001b[0m\u001b[1;33m(\u001b[0m\u001b[1;33m)\u001b[0m\u001b[1;33m\u001b[0m\u001b[1;33m\u001b[0m\u001b[0m\n\u001b[0;32m      4\u001b[0m \u001b[1;33m\u001b[0m\u001b[0m\n\u001b[0;32m      5\u001b[0m \u001b[1;31m# Journey class:\u001b[0m\u001b[1;33m\u001b[0m\u001b[1;33m\u001b[0m\u001b[1;33m\u001b[0m\u001b[0m\n",
      "\u001b[1;32mC:\\ProgramData\\Anaconda3\\lib\\site-packages\\selenium\\webdriver\\remote\\webdriver.py\u001b[0m in \u001b[0;36mfind_element_by_xpath\u001b[1;34m(self, xpath)\u001b[0m\n\u001b[0;32m    519\u001b[0m             \u001b[0mstacklevel\u001b[0m\u001b[1;33m=\u001b[0m\u001b[1;36m2\u001b[0m\u001b[1;33m,\u001b[0m\u001b[1;33m\u001b[0m\u001b[1;33m\u001b[0m\u001b[0m\n\u001b[0;32m    520\u001b[0m         )\n\u001b[1;32m--> 521\u001b[1;33m         \u001b[1;32mreturn\u001b[0m \u001b[0mself\u001b[0m\u001b[1;33m.\u001b[0m\u001b[0mfind_element\u001b[0m\u001b[1;33m(\u001b[0m\u001b[0mby\u001b[0m\u001b[1;33m=\u001b[0m\u001b[0mBy\u001b[0m\u001b[1;33m.\u001b[0m\u001b[0mXPATH\u001b[0m\u001b[1;33m,\u001b[0m \u001b[0mvalue\u001b[0m\u001b[1;33m=\u001b[0m\u001b[0mxpath\u001b[0m\u001b[1;33m)\u001b[0m\u001b[1;33m\u001b[0m\u001b[1;33m\u001b[0m\u001b[0m\n\u001b[0m\u001b[0;32m    522\u001b[0m \u001b[1;33m\u001b[0m\u001b[0m\n\u001b[0;32m    523\u001b[0m     \u001b[1;32mdef\u001b[0m \u001b[0mfind_elements_by_xpath\u001b[0m\u001b[1;33m(\u001b[0m\u001b[0mself\u001b[0m\u001b[1;33m,\u001b[0m \u001b[0mxpath\u001b[0m\u001b[1;33m)\u001b[0m \u001b[1;33m->\u001b[0m \u001b[0mList\u001b[0m\u001b[1;33m[\u001b[0m\u001b[0mWebElement\u001b[0m\u001b[1;33m]\u001b[0m\u001b[1;33m:\u001b[0m\u001b[1;33m\u001b[0m\u001b[1;33m\u001b[0m\u001b[0m\n",
      "\u001b[1;32mC:\\ProgramData\\Anaconda3\\lib\\site-packages\\selenium\\webdriver\\remote\\webdriver.py\u001b[0m in \u001b[0;36mfind_element\u001b[1;34m(self, by, value)\u001b[0m\n\u001b[0;32m   1246\u001b[0m             \u001b[0mvalue\u001b[0m \u001b[1;33m=\u001b[0m \u001b[1;34m'[name=\"%s\"]'\u001b[0m \u001b[1;33m%\u001b[0m \u001b[0mvalue\u001b[0m\u001b[1;33m\u001b[0m\u001b[1;33m\u001b[0m\u001b[0m\n\u001b[0;32m   1247\u001b[0m \u001b[1;33m\u001b[0m\u001b[0m\n\u001b[1;32m-> 1248\u001b[1;33m         return self.execute(Command.FIND_ELEMENT, {\n\u001b[0m\u001b[0;32m   1249\u001b[0m             \u001b[1;34m'using'\u001b[0m\u001b[1;33m:\u001b[0m \u001b[0mby\u001b[0m\u001b[1;33m,\u001b[0m\u001b[1;33m\u001b[0m\u001b[1;33m\u001b[0m\u001b[0m\n\u001b[0;32m   1250\u001b[0m             'value': value})['value']\n",
      "\u001b[1;32mC:\\ProgramData\\Anaconda3\\lib\\site-packages\\selenium\\webdriver\\remote\\webdriver.py\u001b[0m in \u001b[0;36mexecute\u001b[1;34m(self, driver_command, params)\u001b[0m\n\u001b[0;32m    423\u001b[0m         \u001b[0mresponse\u001b[0m \u001b[1;33m=\u001b[0m \u001b[0mself\u001b[0m\u001b[1;33m.\u001b[0m\u001b[0mcommand_executor\u001b[0m\u001b[1;33m.\u001b[0m\u001b[0mexecute\u001b[0m\u001b[1;33m(\u001b[0m\u001b[0mdriver_command\u001b[0m\u001b[1;33m,\u001b[0m \u001b[0mparams\u001b[0m\u001b[1;33m)\u001b[0m\u001b[1;33m\u001b[0m\u001b[1;33m\u001b[0m\u001b[0m\n\u001b[0;32m    424\u001b[0m         \u001b[1;32mif\u001b[0m \u001b[0mresponse\u001b[0m\u001b[1;33m:\u001b[0m\u001b[1;33m\u001b[0m\u001b[1;33m\u001b[0m\u001b[0m\n\u001b[1;32m--> 425\u001b[1;33m             \u001b[0mself\u001b[0m\u001b[1;33m.\u001b[0m\u001b[0merror_handler\u001b[0m\u001b[1;33m.\u001b[0m\u001b[0mcheck_response\u001b[0m\u001b[1;33m(\u001b[0m\u001b[0mresponse\u001b[0m\u001b[1;33m)\u001b[0m\u001b[1;33m\u001b[0m\u001b[1;33m\u001b[0m\u001b[0m\n\u001b[0m\u001b[0;32m    426\u001b[0m             response['value'] = self._unwrap_value(\n\u001b[0;32m    427\u001b[0m                 response.get('value', None))\n",
      "\u001b[1;32mC:\\ProgramData\\Anaconda3\\lib\\site-packages\\selenium\\webdriver\\remote\\errorhandler.py\u001b[0m in \u001b[0;36mcheck_response\u001b[1;34m(self, response)\u001b[0m\n\u001b[0;32m    245\u001b[0m                 \u001b[0malert_text\u001b[0m \u001b[1;33m=\u001b[0m \u001b[0mvalue\u001b[0m\u001b[1;33m[\u001b[0m\u001b[1;34m'alert'\u001b[0m\u001b[1;33m]\u001b[0m\u001b[1;33m.\u001b[0m\u001b[0mget\u001b[0m\u001b[1;33m(\u001b[0m\u001b[1;34m'text'\u001b[0m\u001b[1;33m)\u001b[0m\u001b[1;33m\u001b[0m\u001b[1;33m\u001b[0m\u001b[0m\n\u001b[0;32m    246\u001b[0m             \u001b[1;32mraise\u001b[0m \u001b[0mexception_class\u001b[0m\u001b[1;33m(\u001b[0m\u001b[0mmessage\u001b[0m\u001b[1;33m,\u001b[0m \u001b[0mscreen\u001b[0m\u001b[1;33m,\u001b[0m \u001b[0mstacktrace\u001b[0m\u001b[1;33m,\u001b[0m \u001b[0malert_text\u001b[0m\u001b[1;33m)\u001b[0m  \u001b[1;31m# type: ignore[call-arg]  # mypy is not smart enough here\u001b[0m\u001b[1;33m\u001b[0m\u001b[1;33m\u001b[0m\u001b[0m\n\u001b[1;32m--> 247\u001b[1;33m         \u001b[1;32mraise\u001b[0m \u001b[0mexception_class\u001b[0m\u001b[1;33m(\u001b[0m\u001b[0mmessage\u001b[0m\u001b[1;33m,\u001b[0m \u001b[0mscreen\u001b[0m\u001b[1;33m,\u001b[0m \u001b[0mstacktrace\u001b[0m\u001b[1;33m)\u001b[0m\u001b[1;33m\u001b[0m\u001b[1;33m\u001b[0m\u001b[0m\n\u001b[0m\u001b[0;32m    248\u001b[0m \u001b[1;33m\u001b[0m\u001b[0m\n\u001b[0;32m    249\u001b[0m     \u001b[1;32mdef\u001b[0m \u001b[0m_value_or_default\u001b[0m\u001b[1;33m(\u001b[0m\u001b[0mself\u001b[0m\u001b[1;33m,\u001b[0m \u001b[0mobj\u001b[0m\u001b[1;33m:\u001b[0m \u001b[0mMapping\u001b[0m\u001b[1;33m[\u001b[0m\u001b[0m_KT\u001b[0m\u001b[1;33m,\u001b[0m \u001b[0m_VT\u001b[0m\u001b[1;33m]\u001b[0m\u001b[1;33m,\u001b[0m \u001b[0mkey\u001b[0m\u001b[1;33m:\u001b[0m \u001b[0m_KT\u001b[0m\u001b[1;33m,\u001b[0m \u001b[0mdefault\u001b[0m\u001b[1;33m:\u001b[0m \u001b[0m_VT\u001b[0m\u001b[1;33m)\u001b[0m \u001b[1;33m->\u001b[0m \u001b[0m_VT\u001b[0m\u001b[1;33m:\u001b[0m\u001b[1;33m\u001b[0m\u001b[1;33m\u001b[0m\u001b[0m\n",
      "\u001b[1;31mNoSuchElementException\u001b[0m: Message: no such element: Unable to locate element: {\"method\":\"xpath\",\"selector\":\"//td[@class = \"depart-daybox\"]\"}\n  (Session info: chrome=103.0.5060.53)\nStacktrace:\nBacktrace:\n\tOrdinal0 [0x011CD953+2414931]\n\tOrdinal0 [0x0115F5E1+1963489]\n\tOrdinal0 [0x0104C6B8+837304]\n\tOrdinal0 [0x01079500+1021184]\n\tOrdinal0 [0x0107979B+1021851]\n\tOrdinal0 [0x010A6502+1205506]\n\tOrdinal0 [0x010944E4+1131748]\n\tOrdinal0 [0x010A4812+1198098]\n\tOrdinal0 [0x010942B6+1131190]\n\tOrdinal0 [0x0106E860+976992]\n\tOrdinal0 [0x0106F756+980822]\n\tGetHandleVerifier [0x0143CC62+2510274]\n\tGetHandleVerifier [0x0142F760+2455744]\n\tGetHandleVerifier [0x0125EABA+551962]\n\tGetHandleVerifier [0x0125D916+547446]\n\tOrdinal0 [0x01165F3B+1990459]\n\tOrdinal0 [0x0116A898+2009240]\n\tOrdinal0 [0x0116A985+2009477]\n\tOrdinal0 [0x01173AD1+2046673]\n\tBaseThreadInitThunk [0x75C7FA29+25]\n\tRtlGetAppContainerNamedObjectPath [0x77917A9E+286]\n\tRtlGetAppContainerNamedObjectPath [0x77917A6E+238]\n"
     ]
    }
   ],
   "source": [
    "# Set Journey date:\n",
    "set_journey_date = driver.find_element_by_xpath('//td[@class = \"depart-daybox\"]')\n",
    "set_journey_date.click()\n",
    "\n",
    "# Journey class:\n",
    "set_travell_class = driver.find_element_by_xpath('//span[@class = \"txt-ellipses flight_passengerBox travellerPaxBox\"]')\n",
    "set_travell_class.click()\n",
    "\n",
    "search_date = driver.find_element_by_xpath('//*[@id=\"BE_flight_flsearch_btn\"]')\n",
    "search_date.click()\n"
   ]
  },
  {
   "cell_type": "code",
   "execution_count": 51,
   "id": "28ac0de0",
   "metadata": {},
   "outputs": [],
   "source": [
    "# Creating empty lists:\n",
    "flight_name = []\n",
    "flight_code = []\n",
    "departure_time = []\n",
    "arrival_time = []\n",
    "duration = []\n",
    "ticket_price = []\n",
    "\n",
    "\n",
    "# Scrap the flight name:\n",
    "names=driver.find_elements_by_xpath('//div[@class = \"fs-13 airline-name no-pad col-8\"]')\n",
    "for i in names:\n",
    "    if i.text is None :\n",
    "        flight_name.append(\"--\") \n",
    "    else:\n",
    "        flight_name.append(i.text)\n",
    "        \n",
    "\n",
    "time.sleep(3)\n",
    "\n",
    "# Scrap the flight code:\n",
    "codes=driver.find_elements_by_xpath('//p[@class = \"normal fs-11 font-lightestgrey no-wrap fl-no\"]')\n",
    "for i in codes:\n",
    "    if i.text is None :\n",
    "        flight_code.append(\"--\") \n",
    "    else:\n",
    "        flight_code.append(i.text)\n",
    "        \n",
    "\n",
    "time.sleep(3)\n",
    "\n",
    "# Scrap the departure time:\n",
    "dep_time = driver.find_elements_by_xpath('//div[@class = \"i-b pr\"]')\n",
    "for i in dep_time:\n",
    "    if i.text is None:\n",
    "        departure_time.append(\"--\")\n",
    "    else:\n",
    "        departure_time.append(i.text)\n",
    "        \n",
    "time.sleep(3)\n",
    "\n",
    "# Scrap the arrival time:\n",
    "av_time = driver.find_elements_by_xpath('//p[@class = \"bold fs-15 mb-2 pr time\"]')\n",
    "for i in av_time:\n",
    "    if i.text is None:\n",
    "        arrival_time.append(\"--\")\n",
    "    else:\n",
    "        arrival_time.append(i.text)\n",
    "        \n",
    "time.sleep(3)\n",
    "\n",
    "# Scrap the duration/total time taken:\n",
    "total_time = driver.find_elements_by_xpath('//p[@class = \"fs-12 bold du mb-2\"]')\n",
    "for i in total_time:\n",
    "    if i.text is None:\n",
    "        duration.append(\"--\")\n",
    "    else:\n",
    "        duration.append(i.text)\n",
    "        \n",
    "time.sleep(3)\n",
    "\n",
    "\n",
    "# Scrap the cost of ticket:\n",
    "ticket = driver.find_elements_by_xpath('//div[@class = \"i-b tipsy fare-summary-tooltip fs-18\"]')\n",
    "for i in ticket:\n",
    "    if i.text is None:\n",
    "        ticket_price.append(\"--\")\n",
    "    else:\n",
    "        ticket_price.append(i.text)\n",
    "\n",
    "time.sleep(3)"
   ]
  },
  {
   "cell_type": "code",
   "execution_count": 52,
   "id": "d64512f9",
   "metadata": {},
   "outputs": [
    {
     "name": "stdout",
     "output_type": "stream",
     "text": [
      "0\n",
      "0\n",
      "0\n",
      "0\n",
      "0\n",
      "0\n"
     ]
    }
   ],
   "source": [
    "print(len(flight_name)),\n",
    "print(len(flight_code)),\n",
    "print(len(departure_time)),\n",
    "print(len(arrival_time)),\n",
    "print(len(duration)),\n",
    "print(len(ticket_price))"
   ]
  },
  {
   "cell_type": "code",
   "execution_count": null,
   "id": "6b2e16f0",
   "metadata": {},
   "outputs": [],
   "source": []
  },
  {
   "cell_type": "code",
   "execution_count": null,
   "id": "21271853",
   "metadata": {},
   "outputs": [],
   "source": []
  },
  {
   "cell_type": "code",
   "execution_count": null,
   "id": "0135cad0",
   "metadata": {},
   "outputs": [],
   "source": []
  },
  {
   "cell_type": "code",
   "execution_count": null,
   "id": "2862572f",
   "metadata": {},
   "outputs": [],
   "source": []
  },
  {
   "cell_type": "code",
   "execution_count": null,
   "id": "10ca9728",
   "metadata": {},
   "outputs": [],
   "source": []
  },
  {
   "cell_type": "code",
   "execution_count": null,
   "id": "d361ba6f",
   "metadata": {},
   "outputs": [],
   "source": []
  },
  {
   "cell_type": "code",
   "execution_count": null,
   "id": "5be279b5",
   "metadata": {},
   "outputs": [],
   "source": []
  },
  {
   "cell_type": "code",
   "execution_count": null,
   "id": "db4a4089",
   "metadata": {},
   "outputs": [],
   "source": []
  },
  {
   "cell_type": "code",
   "execution_count": null,
   "id": "5ef2e5ba",
   "metadata": {},
   "outputs": [],
   "source": []
  },
  {
   "cell_type": "code",
   "execution_count": null,
   "id": "57296ceb",
   "metadata": {},
   "outputs": [],
   "source": []
  },
  {
   "cell_type": "code",
   "execution_count": null,
   "id": "7a33000d",
   "metadata": {},
   "outputs": [],
   "source": []
  }
 ],
 "metadata": {
  "kernelspec": {
   "display_name": "Python 3",
   "language": "python",
   "name": "python3"
  },
  "language_info": {
   "codemirror_mode": {
    "name": "ipython",
    "version": 3
   },
   "file_extension": ".py",
   "mimetype": "text/x-python",
   "name": "python",
   "nbconvert_exporter": "python",
   "pygments_lexer": "ipython3",
   "version": "3.8.8"
  }
 },
 "nbformat": 4,
 "nbformat_minor": 5
}
